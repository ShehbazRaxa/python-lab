{
 "cells": [
  {
   "cell_type": "code",
   "execution_count": 3,
   "id": "3fd07b5f",
   "metadata": {},
   "outputs": [
    {
     "name": "stdout",
     "output_type": "stream",
     "text": [
      "Hello World\n"
     ]
    }
   ],
   "source": [
    "print(\"Hello World\")"
   ]
  },
  {
   "cell_type": "code",
   "execution_count": 5,
   "id": "c9685666",
   "metadata": {},
   "outputs": [
    {
     "name": "stdout",
     "output_type": "stream",
     "text": [
      "\"hello world\"\n"
     ]
    }
   ],
   "source": [
    "print('\"hello world\"')"
   ]
  },
  {
   "cell_type": "code",
   "execution_count": 1,
   "id": "08dd1145",
   "metadata": {},
   "outputs": [
    {
     "name": "stdout",
     "output_type": "stream",
     "text": [
      "175\n"
     ]
    }
   ],
   "source": [
    "weight = 150\n",
    "print(weight + 25)"
   ]
  },
  {
   "cell_type": "code",
   "execution_count": 5,
   "id": "581e0253",
   "metadata": {},
   "outputs": [
    {
     "name": "stdout",
     "output_type": "stream",
     "text": [
      "2525\n"
     ]
    }
   ],
   "source": [
    "print(\"25\" + \"25\")"
   ]
  },
  {
   "cell_type": "code",
   "execution_count": 6,
   "id": "12056174",
   "metadata": {},
   "outputs": [
    {
     "name": "stdout",
     "output_type": "stream",
     "text": [
      "100\n"
     ]
    }
   ],
   "source": [
    "original_number = 50\n",
    "new_number = 50\n",
    "sum_of_both = original_number + new_number\n",
    "print(sum_of_both)"
   ]
  },
  {
   "cell_type": "code",
   "execution_count": 7,
   "id": "34b91081",
   "metadata": {},
   "outputs": [
    {
     "name": "stdout",
     "output_type": "stream",
     "text": [
      "140\n"
     ]
    }
   ],
   "source": [
    "original_number = 50\n",
    "original_number = original_number + 90\n",
    "print(original_number)"
   ]
  },
  {
   "cell_type": "code",
   "execution_count": 8,
   "id": "93da88bb",
   "metadata": {},
   "outputs": [
    {
     "data": {
      "text/plain": [
       "140"
      ]
     },
     "execution_count": 8,
     "metadata": {},
     "output_type": "execute_result"
    }
   ],
   "source": [
    "original_number "
   ]
  },
  {
   "cell_type": "code",
   "execution_count": 10,
   "id": "a27dca5f",
   "metadata": {},
   "outputs": [
    {
     "data": {
      "text/plain": [
       "-12"
      ]
     },
     "execution_count": 10,
     "metadata": {},
     "output_type": "execute_result"
    }
   ],
   "source": [
    "loss = 12 - 24\n",
    "loss"
   ]
  },
  {
   "cell_type": "code",
   "execution_count": 11,
   "id": "b4f5d906",
   "metadata": {},
   "outputs": [
    {
     "name": "stdout",
     "output_type": "stream",
     "text": [
      "12.0\n"
     ]
    }
   ],
   "source": [
    "print(24/2)"
   ]
  },
  {
   "cell_type": "code",
   "execution_count": 12,
   "id": "102942ea",
   "metadata": {},
   "outputs": [
    {
     "name": "stdout",
     "output_type": "stream",
     "text": [
      "12\n"
     ]
    }
   ],
   "source": [
    "print(24//2)"
   ]
  },
  {
   "cell_type": "code",
   "execution_count": 16,
   "id": "713c6dd3",
   "metadata": {},
   "outputs": [
    {
     "data": {
      "text/plain": [
       "200.075"
      ]
     },
     "execution_count": 16,
     "metadata": {},
     "output_type": "execute_result"
    }
   ],
   "source": [
    "\n",
    "num = 200 + .075\n",
    "num"
   ]
  },
  {
   "cell_type": "code",
   "execution_count": 17,
   "id": "81f2514e",
   "metadata": {},
   "outputs": [
    {
     "data": {
      "text/plain": [
       "201.075"
      ]
     },
     "execution_count": 17,
     "metadata": {},
     "output_type": "execute_result"
    }
   ],
   "source": [
    "num = 200 + 1.075\n",
    "num"
   ]
  },
  {
   "cell_type": "code",
   "execution_count": null,
   "id": "4b2981ae",
   "metadata": {},
   "outputs": [],
   "source": []
  }
 ],
 "metadata": {
  "kernelspec": {
   "display_name": "Python 3",
   "language": "python",
   "name": "python3"
  },
  "language_info": {
   "codemirror_mode": {
    "name": "ipython",
    "version": 3
   },
   "file_extension": ".py",
   "mimetype": "text/x-python",
   "name": "python",
   "nbconvert_exporter": "python",
   "pygments_lexer": "ipython3",
   "version": "3.8.8"
  }
 },
 "nbformat": 4,
 "nbformat_minor": 5
}
