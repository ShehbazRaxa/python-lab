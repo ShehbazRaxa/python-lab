{
 "cells": [
  {
   "cell_type": "code",
   "execution_count": 4,
   "id": "3b1a8e56",
   "metadata": {},
   "outputs": [
    {
     "name": "stdout",
     "output_type": "stream",
     "text": [
      "Enter the obtained marks59\n",
      "you are fail\n"
     ]
    }
   ],
   "source": [
    "obtained_marks = int(input(\"Enter the obtained marks\"))\n",
    "if obtained_marks  >= 60:\n",
    "    print(\"you are pass\")\n",
    "else:\n",
    "    print(\"you are fail\")"
   ]
  },
  {
   "cell_type": "code",
   "execution_count": 6,
   "id": "d3a52adc",
   "metadata": {},
   "outputs": [
    {
     "name": "stdout",
     "output_type": "stream",
     "text": [
      "Enter the obtained marks481\n",
      "Enter the total marks 800\n",
      "you are granted to take addmission in university\n"
     ]
    }
   ],
   "source": [
    "obtained_marks = int(input(\"Enter the obtained marks\"))\n",
    "total_marks = int(input(\"Enter the total marks \"))\n",
    "percentage = obtained_marks / total_marks * 100\n",
    "if percentage>60:\n",
    "    print(\"you are granted to take addmission in university\")\n",
    "else:\n",
    "    print(\"you are not granted to take addmoission in university\")"
   ]
  },
  {
   "cell_type": "code",
   "execution_count": 4,
   "id": "2118ee4b",
   "metadata": {},
   "outputs": [
    {
     "name": "stdout",
     "output_type": "stream",
     "text": [
      "Enter the python marks60\n",
      "D grade\n"
     ]
    }
   ],
   "source": [
    "marks = int(input(\"Enter the python marks\"))\n",
    "if marks>80:\n",
    "    print(\"A grade\")\n",
    "elif marks>75:\n",
    "    print(\"B grade\")\n",
    "elif marks>70:\n",
    "    print(\"C grade\")\n",
    "elif marks>=60:\n",
    "    print(\"D grade\")\n",
    "else:\n",
    "    print(\"You are fail\")"
   ]
  },
  {
   "cell_type": "markdown",
   "id": "78afa94f",
   "metadata": {},
   "source": [
    "# Maximum"
   ]
  },
  {
   "cell_type": "code",
   "execution_count": 10,
   "id": "8eb301d4",
   "metadata": {},
   "outputs": [
    {
     "name": "stdout",
     "output_type": "stream",
     "text": [
      "Enter the 1st value1\n",
      "Enter the 2nd value2\n",
      "Enter the 3rd value3\n",
      "Enter the 4th value4\n",
      "Enter the 5th value5\n",
      "5\n"
     ]
    }
   ],
   "source": [
    "num1 = int(input(\"Enter the 1st value\"))\n",
    "num2 = int(input(\"Enter the 2nd value\"))\n",
    "num3 = int(input(\"Enter the 3rd value\"))\n",
    "num4 = int(input(\"Enter the 4th value\"))\n",
    "num5 = int(input(\"Enter the 5th value\"))\n",
    "maxx = num1\n",
    "if num2 > num1:\n",
    "    maxx = num2\n",
    "if num3 > num2:\n",
    "    maxx = num3\n",
    "if num4 > num3:\n",
    "    maxx = num4\n",
    "if num5 > num4:\n",
    "    maxx = num5\n",
    "print(maxx)\n"
   ]
  },
  {
   "cell_type": "markdown",
   "id": "df48e88d",
   "metadata": {},
   "source": [
    "\n",
    "   # minimum"
   ]
  },
  {
   "cell_type": "code",
   "execution_count": 7,
   "id": "1ae20547",
   "metadata": {},
   "outputs": [
    {
     "name": "stdout",
     "output_type": "stream",
     "text": [
      "Enter the 1st value1\n",
      "Enter the 2nd value2\n",
      "Enter the 3rd value3\n",
      "Enter the 4th value4\n",
      "Enter the 5th value5\n",
      "1\n"
     ]
    }
   ],
   "source": [
    "num1 = int(input(\"Enter the 1st value\"))\n",
    "num2 = int(input(\"Enter the 2nd value\"))\n",
    "num3 = int(input(\"Enter the 3rd value\"))\n",
    "num4 = int(input(\"Enter the 4th value\"))\n",
    "num5 = int(input(\"Enter the 5th value\"))\n",
    "if (num1 < num2) and (num1 < num3) and (num1 < num4) and (num1 < num5):\n",
    "    minn = num1\n",
    "elif (num2 < num1) and (num2 < num3) and (num2 < num4) and (num2 < num5):\n",
    "    minn = num2\n",
    "elif (num3 < num1) and (num3 < num2) and (num3 < num4) and (num3 < num5):\n",
    "    minn = num3\n",
    "elif (num4 < num1) and (num4 < num2) and (num4 < num3) and (num4 < num5):\n",
    "    minn = num4\n",
    "else:\n",
    "    minn = num5\n",
    "print(minn)\n",
    "    \n",
    "    \n",
    "    "
   ]
  },
  {
   "cell_type": "code",
   "execution_count": null,
   "id": "490efd5a",
   "metadata": {},
   "outputs": [],
   "source": []
  },
  {
   "cell_type": "code",
   "execution_count": 15,
   "id": "89ddc14b",
   "metadata": {},
   "outputs": [
    {
     "name": "stdout",
     "output_type": "stream",
     "text": [
      "Enter the marks43\n",
      "You are fail, hihi\n"
     ]
    }
   ],
   "source": [
    "marks = int(input(\"Enter the marks\"))\n",
    "\n",
    "if marks > 85 and marks < 100:\n",
    "    print(\"You scored grade 'A'\")\n",
    "elif marks > 75 and marks <= 85:\n",
    "    print(\"You scored grade 'B' \")\n",
    "elif marks > 65 and marks <=75:\n",
    "    print(\"You scored grade 'C'\")\n",
    "else:\n",
    "    print(\"You are fail, hihi\")\n",
    "\n"
   ]
  },
  {
   "cell_type": "code",
   "execution_count": 17,
   "id": "7c691aad",
   "metadata": {},
   "outputs": [
    {
     "name": "stdout",
     "output_type": "stream",
     "text": [
      "Enter the 1st value1\n",
      "Enter the 2nd value2\n",
      "Enter the 3rd value3\n",
      "Enter the 4th value4\n",
      "Enter the 5th value5\n",
      "1\n"
     ]
    }
   ],
   "source": [
    "num1 = int(input(\"Enter the 1st value\"))\n",
    "num2 = int(input(\"Enter the 2nd value\"))\n",
    "num3 = int(input(\"Enter the 3rd value\"))\n",
    "num4 = int(input(\"Enter the 4th value\"))\n",
    "num5 = int(input(\"Enter the 5th value\"))\n",
    "minn = num1\n",
    "if num2 < num1:\n",
    "    minn = num2\n",
    "if num3 < num2:\n",
    "    minn = num3\n",
    "if num4 < num3:\n",
    "    minn = num4\n",
    "if num5 < num4:\n",
    "    minn = num5\n",
    "print(minn)"
   ]
  },
  {
   "cell_type": "code",
   "execution_count": null,
   "id": "beb86f25",
   "metadata": {},
   "outputs": [],
   "source": []
  }
 ],
 "metadata": {
  "kernelspec": {
   "display_name": "Python 3",
   "language": "python",
   "name": "python3"
  },
  "language_info": {
   "codemirror_mode": {
    "name": "ipython",
    "version": 3
   },
   "file_extension": ".py",
   "mimetype": "text/x-python",
   "name": "python",
   "nbconvert_exporter": "python",
   "pygments_lexer": "ipython3",
   "version": "3.8.8"
  }
 },
 "nbformat": 4,
 "nbformat_minor": 5
}
